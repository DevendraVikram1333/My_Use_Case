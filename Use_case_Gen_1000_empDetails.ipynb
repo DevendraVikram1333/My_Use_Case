{
  "nbformat": 4,
  "nbformat_minor": 0,
  "metadata": {
    "colab": {
      "name": "Use_case_Gen_1000_empDetails.ipynb",
      "provenance": [],
      "collapsed_sections": []
    },
    "kernelspec": {
      "name": "python3",
      "display_name": "Python 3"
    },
    "language_info": {
      "name": "python"
    }
  },
  "cells": [
    {
      "cell_type": "markdown",
      "metadata": {
        "id": "xofch_tlm-Hz"
      },
      "source": [
        "###**Problem Statement**: \n",
        "Edureka has hired 1000 new employees, the HR has contacted you, and provided you with a text file having new employees’ names. He wants you to help him with generating Employees IDs, Emails, and Password"
      ]
    },
    {
      "cell_type": "markdown",
      "metadata": {
        "id": "UgtgIBY0nCXm"
      },
      "source": [
        "###Tasks to be performed:\n",
        "1. Hey buddy, we have hired 1000 new employees. Here are the names in a text file, each name is separated using a new line. Can you generate the following:\n",
        "\n",
        " >Employee ID: Starting from 2020001. Example 2020001, 2020002 and so on \n",
        "\n",
        " >Email ID: first_name.last_name@edureka.co \n",
        "\n",
        " >Password: It should be an alphanumeric value, must having capital letters, small letters, and special symbols \n",
        "\n",
        "2. I need you to perform some operations on the data, so can we load the data in a Pandas DataFrame\n",
        "\n",
        "3. Just to cross-check, can you show me the first 2 and the last 3 rows. Also, let’s check the shape of the DataFrame and print the data-types of each column \n",
        "\n",
        "4. Print the employee id, email id, and password of ‘Nancy Zediker’\n",
        "\n",
        "5. Can we check if the column ‘Email ID’, it should not contain any duplicate emails, also check its size and print the first 10 values\n",
        " > If duplicate email is found, add a number in the duplicated email We have planned to invite them on lunch in batches. \n",
        " \n",
        "6. Lets create the first batch of all people whose names are starting with ‘A’. Also give me their count\n",
        "\n",
        "7. I just got to know, that the people at index 10, 130, and 560 will not be joining so please remove their record \n",
        "\n",
        "8. We also need to share the data with the finance department so can you create a new DataFrame without the password column and save it in an excel file for sharing \n",
        "\n",
        "9. Can you tell me how I will access the data from excel file using names. For example show me the data for 'John Brown’ and 'Michael Combes’"
      ]
    },
    {
      "cell_type": "markdown",
      "metadata": {
        "id": "BqD3k8BVnYxt"
      },
      "source": [
        "Download the Text file contain only names"
      ]
    },
    {
      "cell_type": "code",
      "metadata": {
        "colab": {
          "base_uri": "https://localhost:8080/"
        },
        "id": "CD5p6215ngGS",
        "outputId": "a94067dc-fda2-4b04-b985-1b4ec25a5acf"
      },
      "source": [
        "!wget https://www.dropbox.com/s/onl5ac2ea3v11aw/names.txt"
      ],
      "execution_count": 80,
      "outputs": [
        {
          "output_type": "stream",
          "name": "stdout",
          "text": [
            "--2021-10-18 05:56:31--  https://www.dropbox.com/s/onl5ac2ea3v11aw/names.txt\n",
            "Resolving www.dropbox.com (www.dropbox.com)... 162.125.65.18, 2620:100:6017:18::a27d:212\n",
            "Connecting to www.dropbox.com (www.dropbox.com)|162.125.65.18|:443... connected.\n",
            "HTTP request sent, awaiting response... 301 Moved Permanently\n",
            "Location: /s/raw/onl5ac2ea3v11aw/names.txt [following]\n",
            "--2021-10-18 05:56:31--  https://www.dropbox.com/s/raw/onl5ac2ea3v11aw/names.txt\n",
            "Reusing existing connection to www.dropbox.com:443.\n",
            "HTTP request sent, awaiting response... 302 Found\n",
            "Location: https://uc170f885b301dce15a9c124896e.dl.dropboxusercontent.com/cd/0/inline/BYRlXbCuUjDNmMQHqPbHafJDvllQ8dMFTmnETw-95SP5l-ZDrDRu4sQawAAATvMXSB3aJYjgiRNBH5zICF3-2UUUnnbrsFXGQ76htJQEfh0goGX7Cm95C_j2-wXXKzkbH-iBbXgmunUomXZFpFNcBNjn/file# [following]\n",
            "--2021-10-18 05:56:32--  https://uc170f885b301dce15a9c124896e.dl.dropboxusercontent.com/cd/0/inline/BYRlXbCuUjDNmMQHqPbHafJDvllQ8dMFTmnETw-95SP5l-ZDrDRu4sQawAAATvMXSB3aJYjgiRNBH5zICF3-2UUUnnbrsFXGQ76htJQEfh0goGX7Cm95C_j2-wXXKzkbH-iBbXgmunUomXZFpFNcBNjn/file\n",
            "Resolving uc170f885b301dce15a9c124896e.dl.dropboxusercontent.com (uc170f885b301dce15a9c124896e.dl.dropboxusercontent.com)... 162.125.65.15, 2620:100:6017:15::a27d:20f\n",
            "Connecting to uc170f885b301dce15a9c124896e.dl.dropboxusercontent.com (uc170f885b301dce15a9c124896e.dl.dropboxusercontent.com)|162.125.65.15|:443... connected.\n",
            "HTTP request sent, awaiting response... 200 OK\n",
            "Length: 14024 (14K) [text/plain]\n",
            "Saving to: ‘names.txt’\n",
            "\n",
            "names.txt           100%[===================>]  13.70K  --.-KB/s    in 0s      \n",
            "\n",
            "2021-10-18 05:56:33 (351 MB/s) - ‘names.txt’ saved [14024/14024]\n",
            "\n"
          ]
        }
      ]
    },
    {
      "cell_type": "code",
      "metadata": {
        "id": "mPvjp2xioBwy"
      },
      "source": [
        "import numpy as np\n",
        "import pandas as pd\n",
        "import random\n"
      ],
      "execution_count": 81,
      "outputs": []
    },
    {
      "cell_type": "code",
      "metadata": {
        "id": "1eTfQ5MRoYt3"
      },
      "source": [
        "file1=open(\"/content/names.txt\",'r')\n",
        "names=file1.read()\n",
        "file1.close()"
      ],
      "execution_count": 82,
      "outputs": []
    },
    {
      "cell_type": "code",
      "metadata": {
        "colab": {
          "base_uri": "https://localhost:8080/",
          "height": 171
        },
        "id": "CKBlyAUzo2NW",
        "outputId": "598e035f-941e-45bc-87ef-b928be7a309b"
      },
      "source": [
        "names"
      ],
      "execution_count": 83,
      "outputs": [
        {
          "output_type": "execute_result",
          "data": {
            "application/vnd.google.colaboratory.intrinsic+json": {
              "type": "string"
            },
            "text/plain": [
              "'Edward Davis\\nJohn Brown\\nCristopher Mccrate\\nMichael Combes\\nJeff Blount\\nJoseph Ferris\\nPablo Bruner\\nRonnie Waite\\nEdward Gonzalez\\nRuby Musetti\\nDella Janek\\nBrian Main\\nJennifer Fowler\\nPatricia Lenis\\nDominique Connor\\nDavid Adkins\\nHelen Phelps\\nJohn Thornton\\nMarcos Romero\\nCindy Hayes\\nMellisa Huff\\nFrank Prater\\nIn White\\nAlfredo Yu\\nSusan Adkins\\nMandy Oehler\\nSabrina Helman\\nDanielle Armstrong\\nPeter Jones\\nSusan Draughn\\nErnest Kochanski\\nDoug Rinaldi\\nJudy Purdy\\nLarry Smith\\nSarah Garrow\\nDominque Williams\\nDerrick Miller\\nJanet Hawkes\\nJudy Motley\\nFrances Avellino\\nVernon Byrd\\nRichard Misfeldt\\nTed Olson\\nMartha Hamelin\\nDonna Markowski\\nBrandon Wright\\nViolet Volz\\nRodney Simmons\\nShannon Moore\\nHelen Floyd\\nDawne Ghaemmaghami\\nCarlos Savage\\nSteven Kipling\\nMeghan Smith\\nRyan Harding\\nMabel Clark\\nRandall Lynn\\nSamantha King\\nLeona Fultz\\nNorma Stanely\\nSandra Woods\\nClaudia Boggs\\nJohn Oliva\\nLaurie Whit\\nMichael Pike\\nVirgie Baptiste\\nJorge Kinsinger\\nShari Levine\\nAshley Nettles\\nJames Frezzo\\nJana Brown\\nFausto Gray\\nBrian Lockhart\\nMichelle Groh\\nPatsy Holmes\\nKathleen Roberts\\nSara Shannon\\nAlice Vallee\\nRobert Gaylor\\nMichael Pratka\\nLara Double\\nMathew Ramos\\nGuy Teasley\\nBrianna Jacobs\\nRoberta Clements\\nRoyce Junkin\\nRonald Shumway\\nJason Sneed\\nDavid Rayburn\\nElma Glenn\\nJames Sills\\nLouise Farmer\\nEvelyn Reed\\nBrian Lemke\\nElsie Ponce\\nRobert Hines\\nAdrienne Huber\\nKaren Salas\\nLinda Terry\\nSusan Esperon\\nSamuel Jones\\nWilliam Smith\\nJames Jones\\nScottie Walker\\nLoretta Mcdevitt\\nRobert Kramer\\nMirna Bush\\nIrvin Steinberg\\nJessica Veilleux\\nKristi Munson\\nDoris Toft\\nXavier Hutchinson\\nThomas Dealba\\nAhmad Olson\\nTaylor Cendejas\\nMichael Anderson\\nPeggy Zanola\\nAndrew Lund\\nKeith Shepard\\nRobert Harris\\nClaud Rice\\nAngeline Roberts\\nCary Levy\\nLashonda Fields\\nDawn Oneill\\nJudith Toki\\nElizabeth Franks\\nJohn Heyde\\nWalter Mcneill\\nSue Mendoza\\nWilliam Ponyah\\nGeorge Stark\\nPatrick Oconnor\\nMichael Hopkins\\nCynthia Boyett\\nPauline Duncan\\nMaria Banks\\nKelly Pawlak\\nKatherine Young\\nJodi Boatwright\\nJeramy Sanchez\\nCarl Shouse\\nRickey Allen\\nVincent Larson\\nCharles Cruz\\nTimothy Packard\\nFrederick Azim\\nDale Wakham\\nMatthew Hartman\\nAshley Curtis\\nEmma Pearson\\nErin Myers\\nPatricia Greaves\\nJune Hicks\\nSue Hermans\\nRebecca Geier\\nShirley Himes\\nHarriett Anderson\\nLetitia Turner\\nMark Davine\\nElmer Boos\\nHelen Burgess\\nKathy Mallett\\nJames Bingle\\nJohnnie Bass\\nRandall Shiver\\nPatricia Quince\\nTom Guzman\\nJohn Gregg\\nDonna Robertson\\nJaime Biggs\\nDavid Ragland\\nVincent Matt\\nJackie Gillespie\\nFrank Stephenson\\nAlbert Lyons\\nRachel Pettway\\nTamiko Austin\\nBeverly Marsh\\nDan Elam\\nSheila Peck\\nCheryl Dibble\\nLee Tate\\nRegina Davis\\nCharles Blackwell\\nSusan Demaray\\nJeffery Smith\\nKenneth Valdivia\\nCourtney Jaynes\\nKeith Council\\nLois Davis\\nMary Dupuis\\nCarlos Posey\\nAlex Swank\\nKyle Nicely\\nJill Swanson\\nPatricia Johnstone\\nSamuel Santana\\nGilda Stewart\\nRichard Smith\\nCharles Brendel\\nBlake Dube\\nBarbara Weddle\\nMichael Foley\\nJohn Hall\\nBilly Baker\\nOla Britton\\nAlyssa Walker\\nAlex Kane\\nAllan Wimberly\\nMelvin Legault\\nFlorence Drummond\\nLino Delacruz\\nRuby Reilly\\nMatthew Markey\\nJoann Ruch\\nAnn Houston\\nDonnie Stewart\\nHenrietta Godoy\\nJason Mason\\nDanny Baker\\nJames Branch\\nGabriel Rhea\\nTimothy Tobar\\nJulia Gonzalez\\nJc Hancock\\nRosalie Picard\\nMarilynn Taylor\\nPatrick Garcia\\nMaria Noboa\\nAnnie Gray\\nLisa Pham\\nSandra Jones\\nGerald Edwards\\nHelen Hofmann\\nDann Williams\\nCharles Ennis\\nDwayne George\\nDarlene Hopper\\nDebbie Mercer\\nMark Wood\\nJames Jimenez\\nChristine Hooker\\nClara Cole\\nDouglas Crichton\\nKaren Horton\\nJoseph Mutch\\nBurl Arevalo\\nRobert Smith\\nMark Harrison\\nSonya Best\\nAdrian Warren\\nDavid Davidson\\nSondra Rodriguez\\nRichard Pezzuti\\nBruce Jenkins\\nMichael Downs\\nMary Brewster\\nJoan Taylor\\nJames Niebaum\\nDiane Reeder\\nNancy Cooper\\nJohn Bennet\\nRobert Myers\\nDanny James\\nNancy Clay\\nDennis Wurzbacher\\nDale Furtado\\nVernon Keiser\\nMichael Sparks\\nJasmine Wilkinson\\nJudy Jones\\nMatthew Erdmann\\nKevin Freeman\\nBrandon Martinez\\nWilliam Lay\\nEverett Masterson\\nEula Duncan\\nSheldon Tyson\\nMelvin Glisson\\nJoan Stansel\\nChelsea Galliher\\nSamuel Plante\\nDennis Dearborn\\nChester Ruth\\nThomas Stevens\\nFrancine Marak\\nJane Mauro\\nGary Williams\\nJustin Baker\\nDeborah Patterson\\nConnie Fields\\nFrancis Matthews\\nBrandon Santana\\nMallory Delisa\\nLinda Wimberly\\nSocorro Gainer\\nRaquel Davis\\nLena Sanders\\nRobert Simonetti\\nJames Rucker\\nJames Caldwell\\nSandra Robinson\\nRoberto Buddenhagen\\nChristopher Bean\\nBrett Mead\\nJonathan Wilson\\nPenny Alderman\\nEdward Walley\\nTimothy Rowell\\nAaron Huffstetler\\nKaren Matthews\\nRose Hennessey\\nDonald Jones\\nBarbara Horan\\nClyde Powell\\nBarry Barber\\nDamon Marr\\nRobert Jones\\nMaria Celadon\\nRobert Christ\\nJoseph Gramc\\nDorothy Simpson\\nDoris Plotts\\nDonte Hinds\\nBecky Weber\\nCharles Dittmer\\nHumberto Morales\\nSusan Chalender\\nRoger Garcia\\nJames Burt\\nMason Christensen\\nGary Loyd\\nTeresa Rodriguez\\nJuana Serrano\\nTheodore Baillargeon\\nLeslie Ross\\nAngela Criddle\\nTheodore Gray\\nCindy Dean\\nChester Stewart\\nVeronica Gibson\\nKeith Goin\\nKyle Johann\\nMaria Andrews\\nTyler Tavares\\nMary Vega\\nChadwick Duncan\\nEdward Coil\\nBradley Davis\\nTammy Berry\\nTravis Lemke\\nShannon Smith\\nGeorge Blalock\\nRaymond Link\\nSteven Felix\\nJonathon Cutler\\nKevin Avery\\nJohn Jodoin\\nElaine Renn\\nElizabeth Sims\\nMargie Joyner\\nCyril Tedeschi\\nDerek Sundt\\nPatricia Schultz\\nFrancisco Gilman\\nDavid Dombrowski\\nStanley Lund\\nTom Bradley\\nThomas Shierling\\nBeth Minichiello\\nAlton Dates\\nJulie Mattie\\nRobert Kyer\\nJackie Jones\\nValerie Page\\nBrittany Melito\\nLouise Minton\\nAlfred Olivares\\nDavid Martinez\\nWilliam Mccune\\nJohn Kanahele\\nEdward Edwards\\nRudy Perez\\nHector Babena\\nDale Gipson\\nJason Kleck\\nBlanca Evans\\nRichard Williams\\nCamille Ausmus\\nTom Hammack\\nAnna Lievano\\nDouglas Echols\\nIris Williams\\nJill Henry\\nMichael Sanmiguel\\nNicole Haskell\\nLucy Larson\\nPaul Gustovich\\nKaren Coutts\\nMarlene Basinski\\nMichael May\\nMelaine Lewis\\nGeorgette Turner\\nEdward Mccard\\nMelinda Fikes\\nEmily Brinton\\nMarion Dyckman\\nLisa Dudas\\nRobby Jagers\\nLance Townley\\nHenry Conrad\\nTracey Ross\\nChance Scott\\nPatricia Vannest\\nKathryn Whitson\\nDeanna Benshoof\\nClinton Payton\\nHuong Austin\\nDanielle Mcgowan\\nArmando Harr\\nAmy Weatherby\\nTroy Kaywood\\nBrenda Orozco\\nDonald Oliver\\nMatthew Mccullough\\nMarie Seabron\\nEmily West\\nMiriam King\\nWilliam Humphrys\\nShelly Lambert\\nLee Goodyear\\nAmy Conway\\nLouis Zimmerman\\nRobin Harris\\nJames Askew\\nOlga Clark\\nJames Disher\\nNancy Mallen\\nBarbara Dotson\\nLucille Harvey\\nMelanie Price\\nBernard Spiller\\nMartha Beauford\\nLori Rase\\nKeith Barajas\\nWilliam Owens\\nWilbur Klein\\nHenry Emerson\\nKimberly Alfaro\\nMichael Hollins\\nThomas Brantly\\nKathleen Hackney\\nMargaret Benedict\\nAlida Ristau\\nLouella Shepard\\nMaria Mardis\\nCary Gariepy\\nDana Simpson\\nDavid Rahman\\nRalph Clark\\nRobin Walker\\nBeatrice Crockett\\nPaul Higgins\\nCecilia Lemon\\nRobert Allen\\nBertie Moore\\nErika Sheffield\\nPamela Williams\\nCharles Surbaugh\\nAnn Goldenberg\\nSteven Olson\\nRudy Black\\nMartha Brooks\\nColin Mccullen\\nLois Wester\\nRonald Gavin\\nMichael Rivera\\nMary Smith\\nJamie Hernandez\\nJed Peters\\nLashay Tipton\\nJohn House\\nKenneth Heiskell\\nWilliam Mclaughlin\\nLarry Cogswell\\nCarla Adame\\nPaulette Thompson\\nStephen Place\\nAlfredo Diaz\\nLisa Metcalf\\nMartha Apodaca\\nAllison Perry\\nCynthia Meyers\\nMalia Skelley\\nJerry Martin\\nEvelyn Felt\\nVictor Lieder\\nCamille Alexander\\nTrevor Combass\\nChris Johnston\\nSalvador Craze\\nPhillis Walp\\nHeather Lawrence\\nMarcell Helton\\nDonald Gipson\\nAndrew Floyd\\nMatthew Richman\\nMary Silvernail\\nManie Ackley\\nAnibal Shaw\\nEthel Smith\\nJames Garcia\\nSam Garrison\\nIrene Milliner\\nEdward Nathanson\\nJudith Mccarty\\nDenise Kilcoyne\\nDorothy Martin\\nGlen Dziedzic\\nDale Hays\\nAlbert Lane\\nAgustin Powell\\nMichelle Roule\\nJames Tolman\\nDolores Roberts\\nCandis Eison\\nDorothy Servant\\nOscar Batten\\nApril Lang\\nEmma Bouton\\nTammy Jewett\\nLinda Jamison\\nStephanie Durant\\nPatricia Pegues\\nCharles Rodriguez\\nNicole Esparza\\nGwen Shaw\\nJeremiah Parks\\nJessica Bell\\nCharles Lim\\nBilly Nash\\nNola Jennings\\nByron Genao\\nMario Norman\\nAndrew Asmussen\\nNorma Gazitano\\nPatsy Mancini\\nMary Meckes\\nRichard Homma\\nLucille Coffey\\nFrank Yarbrough\\nBridget Sawyer\\nAntionette Farnam\\nKathryn Clarkson\\nCarl Patterson\\nDiane Kreidel\\nTasha Perry\\nTerry Evans\\nConnie Shepherd\\nJoseph Brussel\\nJames Hansing\\nWalter Kowalski\\nRichard White\\nSimone Roush\\nNicole Baker\\nMaria Brown\\nJohn Schmidt\\nMichelle Bright\\nAlyssa Carpenter\\nJill Rodriquez\\nRonald Decker\\nMary Lockett\\nFrancisco Bueti\\nFlorence Holman\\nDoris Thor\\nTyler Hall\\nBarbara Henry\\nAllan Geimer\\nElmer Swendsen\\nRobert Mazon\\nDenise Guzman\\nRussell Reper\\nDouglas Andrews\\nHugh Archibald\\nNora Costley\\nDorothy Hernandez\\nLauren Ross\\nBlake Staelens\\nAmy Thomas\\nIndia Nelson\\nPeggy Joyce\\nBruce Kruse\\nMagali Woods\\nJames Mertz\\nAnastasia Mederios\\nMarty Pendleton\\nLee Caudill\\nLois Thompson\\nChristopher Conder\\nGerald Meil\\nJoseph Manley\\nAntonio Jimenez\\nCaroline Boatner\\nLynn Asakura\\nLinda Hubbell\\nKathleen Ausdemore\\nPatricia Bryan\\nAlexander Vincent\\nRuth Mckneely\\nPaul Canfield\\nLouis Laney\\nJack Sievers\\nAngie Mcconnell\\nArmando Ragsdale\\nDale Immediato\\nMatthew Holmes\\nJohn Perkins\\nCharles Mays\\nArdella Biagioni\\nJacqueline Marshall\\nBoyd Mchattie\\nRoger Howard\\nLyndon Wagner\\nTimothy Craig\\nNga Hodge\\nGary Webster\\nJames Alberts\\nJose Reed\\nSteven Jones\\nJason Brown\\nMarcus Figueroa\\nCalvin Drelick\\nMary Bentley\\nDonald Boyce\\nElizabeth Albright\\nKent Traverso\\nJames Adams\\nNelda Thomson\\nPamela Puglia\\nTracy Williams\\nLarry Harrington\\nDaniel Carrillo\\nRussell Williams\\nDianne Lester\\nKenneth Franklin\\nBetsy Martin\\nSondra Bolton\\nRobert Ellington\\nEbony Wolf\\nJake Cowart\\nRay Chandler\\nJack Huether\\nHector Ellinger\\nAdele Coltrain\\nJustin Zanes\\nDavid Gibson\\nCaleb Sweeney\\nPrince Bell\\nHelen Hudley\\nAndrea Jimenez\\nChristie Puffinburger\\nDonald Love\\nJoyce Bona\\nMegan Chalmers\\nCyril Payne\\nFlorence Cooper\\nAlbert Burnett\\nMolly Boyd\\nSteve Rapp\\nDerek Rivera\\nZora Heath\\nGene Hughes\\nMichael Bush\\nCarol Raymer\\nRodney Sheaffer\\nKenneth Griffin\\nLorena Noyes\\nCharles Cureton\\nDaniel Adelstein\\nManuel Moreland\\nYvonne Stallcup\\nDonna Barr\\nBruce Crider\\nTina Chrisman\\nAlene Inman\\nRichard Hargrove\\nDaniel Lacuesta\\nLila Lorna\\nCarl Heinlein\\nJean Vann\\nBarbara Perez\\nMichelle Barbour\\nTiffany Otis\\nCharlotte Davis\\nVirgen Asquith\\nRebecca Rodriguez\\nEvelyn Ferreira\\nDarrell Esterly\\nKeith Garza\\nDean Wallace\\nMary Oconnor\\nLynn Naone\\nEvelyn Chaney\\nRobert Wright\\nDavid Spicer\\nCelia Williams\\nSean Betterman\\nPaul Medlock\\nDavid Pare\\nSalvatore Guthrie\\nAnna Witzke\\nTom Nunley\\nKathyrn Choi\\nSamantha Springer\\nDerrick Hawley\\nMaybell Robinson\\nSteven Harris\\nLois Ruth\\nDavid Williams\\nSusann Perez\\nLinda Clouse\\nLawanda Mcnutt\\nFrances Dalton\\nRicky Jones\\nJose Tamborlane\\nMarvin Wallace\\nMartha Werner\\nMaureen Garibay\\nLaura Ledet\\nDavid Teixeira\\nRichard Core\\nClaudine Marley\\nAdele Hillebrandt\\nJerry Conner\\nRose Reilly\\nNorman Williams\\nKenneth Riebau\\nJoseph Mcdaniel\\nCatherine Burnett\\nKaren Antilla\\nDee Rothfuss\\nElsie Wells\\nJennifer Cowan\\nLinda Mckoy\\nJosette Nutter\\nJennifer Devore\\nLori Owen\\nMichael Crawford\\nSteven Stovall\\nErvin Schuster\\nManuela Cleveland\\nAllan Rooks\\nKristine Gonzalez\\nMary Sutton\\nMelinda Chaney\\nJohn Morrone\\nMarilyn Reyna\\nScott Ryan\\nGeoffrey Carr\\nJudith Reinsch\\nHenry Weatherby\\nBrian Rush\\nJoshua Ernst\\nNicholas Wanzer\\nEvelyn Asquith\\nShela Blew\\nMatthew Wilson\\nKrista Phan\\nJoshua Groch\\nAmanda Kelly\\nCharles Folsom\\nJohnathan Bambeck\\nRhonda Bruder\\nErin Oakman\\nThelma Patrick\\nMelinda Abbott\\nMichael Myers\\nBetty Hamlin\\nJoanne White\\nIrene Alvarez\\nGerry Walter\\nDavid Johnston\\nDexter Sherrer\\nJoseph Bustos\\nSusan Prater\\nWilliam Mickel\\nCarlos Chipps\\nAlice Redmond\\nBruce Rohr\\nNorma Borek\\nBruno Bunch\\nBessie Green\\nMike Imes\\nJohn Davis\\nDavid Brunson\\nSharon Parker\\nDaryl Carroll\\nMary Diaz\\nThomas Mcconnell\\nJessica Jones\\nJane Barnard\\nRodney Middleton\\nWallace Conti\\nHarriet Croshaw\\nRuben Deloach\\nGary Jeffries\\nMike Cashio\\nElizabeth Shelly\\nVirginia Herring\\nMartha Bradford\\nTimothy Byrum\\nPeter Arms\\nJose Tanner\\nEvelyn Morton\\nJannie Ceraos\\nChrista Melanson\\nReynaldo Beier\\nMari Kirksey\\nAdam Wiley\\nIsidro Foster\\nMatthew Green\\nMary Morales\\nLinda Mcgeorge\\nMarsha Collins\\nChristina Anderson\\nJimmy Ostrander\\nLessie Baker\\nElizabeth Echols\\nLisa Zepeda\\nMichael Raynor\\nHeather Johnson\\nMargaret Ayala\\nHolly Dubinsky\\nKami Zamora\\nDouglas House\\nJames Parrish\\nRussell Acuna\\nMichael Aguirre\\nSusan Morales\\nPeter Meeks\\nReva Smith\\nMarjorie Webb\\nMarcos Long\\nJoanne Cothren\\nJuanita Lazo\\nDavid Boyd\\nLatoya Clayton\\nLouie Meadows\\nMark Winstead\\nLois Thompson\\nStephen Fisher\\nIsrael Eastman\\nCynthia Tomlinson\\nMarsha Yaney\\nDavid Ellis\\nVictor Edmonds\\nMichael Griffiths\\nTheodore Hernandez\\nEric Curry\\nGladys Evans\\nJan Moody\\nDavid Connolly\\nAdrienne Dalton\\nKay Crawford\\nPeter Santiago\\nAnthony Nice\\nBrenda Zhu\\nBenjamin Shah\\nFrank Mcintosh\\nLee Kellam\\nSantos Tucker\\nLillie Campos\\nLillian Hart\\nThersa Nopper\\nRosa Baker\\nWillie Mccabe\\nMichael Caraballo\\nSummer Feldman\\nJustin Gaspard\\nDenise Tippetts\\nJudith Schmid\\nCharles Pankey\\nCheryl Davis\\nSandra Turner\\nJason Eisele\\nCharles Chapman\\nMargaret Saucier\\nBrian Shanks\\nCrystal Rohn\\nEbony Vincent\\nBrooke Carrell\\nElaine Petersen\\nOpal Boles\\nElvis James\\nHermelinda Brown\\nAmanda Paul\\nMary Zimmerman\\nAdam Roth\\nSamuel Carroll\\nLorena Hamilton\\nRuby Fisher\\nWinifred Adams\\nJose Yancey\\nPearl Vaughn\\nNovella Mckinney\\nJesica Watts\\nRetta Yates\\nChristie Marotta\\nLisa Lowrance\\nMelissa Hudley\\nMegan Kjelland\\nJosephine Mcneal\\nDianne Jobe\\nRose Morgan\\nRobert Pitt\\nJennifer Blackman\\nLizbeth Para\\nElton Crum\\nDerek Griffith\\nJulia Pengelly\\nBarry Powell\\nMichael Simpson\\nDiana Bluma\\nJesus Lebeau\\nWalter Coates\\nAlma Smith\\nLibby Tyner\\nRonald Holt\\nMark Murray\\nJames Love\\nGeorge Ellis\\nJulia Fenstermacher\\nHarry Schroder\\nJeremy Hernandez\\nWayne Creason\\nJoe Gulbranson\\nNicole Miller\\nWillene Windham\\nTodd South\\nEdwin Proctor\\nDavid Parlin\\nJohn Wilson\\nKathryn Warwick\\nOla Zavala\\nCharles Belmont\\nBrent Riddell\\nHelen Bassett\\nHubert Amos\\nSarah Deangelo\\nKyle Lindsay\\nWendell Martin\\nGayle Higa\\nKenneth Fowler\\nAlissa Hamberg\\nJunior Dodd\\nGail Stockman\\nWendell Zook\\nDamion Skeans\\nDennis Nation\\nSharon Enriquez\\nRobert Cole\\nRobert Mckay\\nAndrea Gainey\\nDavid Cervantes\\nJoanne Simmons\\nArnold Free\\nDorothy Woods\\nVera Burnett\\nSharon Hazelton\\nPaula Dewoody\\nShari Hagee\\nDonald Bruder\\nMattie Cortez\\nMax Richardson\\nJose Deleon\\nMary Mauldin\\nEugene Deutsch\\nJulie Bartley\\nChristina Stender\\nElma Whipps\\nCheryl Perez\\nJose Heatherington\\nChristopher Calaf\\nDixie Quintana\\nRosemary Novotny\\nBradley Gonzales\\nJessie Ward\\nBrian Gibson\\nSarah Humphrey\\nLinda Mccracken\\nLarry Orr\\nLauren Rodrigues\\nEric Jackson\\nTilda Mcduffie\\nWilliam Johnson\\nJulie Kronenberg\\nJeanette Sandlin\\nNancy Zediker\\nEdward Richter\\n'"
            ]
          },
          "metadata": {},
          "execution_count": 83
        }
      ]
    },
    {
      "cell_type": "code",
      "metadata": {
        "colab": {
          "base_uri": "https://localhost:8080/"
        },
        "id": "8g51GH5vo3lw",
        "outputId": "48e88e6b-017a-4b81-85fb-d8103945858a"
      },
      "source": [
        "names = names.strip().split('\\n')\n",
        "print(names[:10])\n",
        "len(names)"
      ],
      "execution_count": 84,
      "outputs": [
        {
          "output_type": "stream",
          "name": "stdout",
          "text": [
            "['Edward Davis', 'John Brown', 'Cristopher Mccrate', 'Michael Combes', 'Jeff Blount', 'Joseph Ferris', 'Pablo Bruner', 'Ronnie Waite', 'Edward Gonzalez', 'Ruby Musetti']\n"
          ]
        },
        {
          "output_type": "execute_result",
          "data": {
            "text/plain": [
              "1000"
            ]
          },
          "metadata": {},
          "execution_count": 84
        }
      ]
    },
    {
      "cell_type": "markdown",
      "metadata": {
        "id": "Z6FZ2gE8zPku"
      },
      "source": [
        "Task:01-> .............Generating Employee Password:................"
      ]
    },
    {
      "cell_type": "code",
      "metadata": {
        "id": "Qs2s2_TOo93U"
      },
      "source": [
        "sp_symbol=['!','@','#','$','&','?']\n",
        "# Here we will generate a function for password\n",
        "def gen_pwd():\n",
        "  pwd=[]\n",
        "  caps_alpha = [chr(random.randrange(65, 65+26)) for _ in range(random.randrange(1, 4))]\n",
        "  small_alpha = [chr(random.randrange(97,97+26)) for _ in range(random.randrange(3,6))]\n",
        "  np.random.shuffle(sp_symbol)\n",
        "  pwd.append(sp_symbol[0])\n",
        "  num = [str(random.randrange(0,10)) for _ in range(random.randrange(1, 4)) ]\n",
        "  pwd=pwd+caps_alpha+small_alpha+num\n",
        "  np.random.shuffle(pwd)\n",
        "  pwd=''.join(pwd)\n",
        "  return pwd\n",
        "\n"
      ],
      "execution_count": 85,
      "outputs": []
    },
    {
      "cell_type": "code",
      "metadata": {
        "colab": {
          "base_uri": "https://localhost:8080/"
        },
        "id": "S0dkZOnopYgG",
        "outputId": "1f71d601-69d8-4733-9483-e1300a8f7869"
      },
      "source": [
        "print(gen_pwd())"
      ],
      "execution_count": 86,
      "outputs": [
        {
          "output_type": "stream",
          "name": "stdout",
          "text": [
            "l7!m65yYBcv\n"
          ]
        }
      ]
    },
    {
      "cell_type": "markdown",
      "metadata": {
        "id": "YFDmMNzqze_h"
      },
      "source": [
        "Task:02 -> ....................Generating Employee Email Id:......................."
      ]
    },
    {
      "cell_type": "code",
      "metadata": {
        "id": "pzU_bjgYzpz8"
      },
      "source": [
        "def gen_email(name):\n",
        "  name=name.split()\n",
        "  email='.'.join(name)\n",
        "  return email.lower() + '@edureka.co'"
      ],
      "execution_count": 125,
      "outputs": []
    },
    {
      "cell_type": "code",
      "metadata": {
        "colab": {
          "base_uri": "https://localhost:8080/"
        },
        "id": "FHN8zOPKwLgN",
        "outputId": "b6a6d6e1-a5a5-4dff-b677-c2cee7cf2091"
      },
      "source": [
        "print(gen_email('Raj Singh13'))"
      ],
      "execution_count": 126,
      "outputs": [
        {
          "output_type": "stream",
          "name": "stdout",
          "text": [
            "raj.singh13@edureka.co\n"
          ]
        }
      ]
    },
    {
      "cell_type": "code",
      "metadata": {
        "id": "nNLAHEtL09jl"
      },
      "source": [
        "emp_id = [id for id in range(2020001,2020001+1000)]\n",
        "email=[gen_email(name) for name in names]\n",
        "password=[gen_pwd() for _ in range(1000)]"
      ],
      "execution_count": 93,
      "outputs": []
    },
    {
      "cell_type": "code",
      "metadata": {
        "colab": {
          "base_uri": "https://localhost:8080/"
        },
        "id": "ubzGkMeO_ipA",
        "outputId": "35dcfabc-816b-44d2-b56a-5ae2366cd9d6"
      },
      "source": [
        "emp_id[:10]"
      ],
      "execution_count": 94,
      "outputs": [
        {
          "output_type": "execute_result",
          "data": {
            "text/plain": [
              "[2020001,\n",
              " 2020002,\n",
              " 2020003,\n",
              " 2020004,\n",
              " 2020005,\n",
              " 2020006,\n",
              " 2020007,\n",
              " 2020008,\n",
              " 2020009,\n",
              " 2020010]"
            ]
          },
          "metadata": {},
          "execution_count": 94
        }
      ]
    },
    {
      "cell_type": "code",
      "metadata": {
        "colab": {
          "base_uri": "https://localhost:8080/"
        },
        "id": "j-iTOb2W8GGJ",
        "outputId": "bff7c69c-3386-449d-ec09-af51c1fd7935"
      },
      "source": [
        "email[:10]"
      ],
      "execution_count": 90,
      "outputs": [
        {
          "output_type": "execute_result",
          "data": {
            "text/plain": [
              "['edward.davis@edureka.co',\n",
              " 'john.brown@edureka.co',\n",
              " 'cristopher.mccrate@edureka.co',\n",
              " 'michael.combes@edureka.co',\n",
              " 'jeff.blount@edureka.co',\n",
              " 'joseph.ferris@edureka.co',\n",
              " 'pablo.bruner@edureka.co',\n",
              " 'ronnie.waite@edureka.co',\n",
              " 'edward.gonzalez@edureka.co',\n",
              " 'ruby.musetti@edureka.co']"
            ]
          },
          "metadata": {},
          "execution_count": 90
        }
      ]
    },
    {
      "cell_type": "code",
      "metadata": {
        "colab": {
          "base_uri": "https://localhost:8080/"
        },
        "id": "rGZtMdgd8zFq",
        "outputId": "ca858fcd-6331-4e7a-8b45-aa88a13e4086"
      },
      "source": [
        "password[:10]"
      ],
      "execution_count": 91,
      "outputs": [
        {
          "output_type": "execute_result",
          "data": {
            "text/plain": [
              "['qKcb&8b5',\n",
              " 'pQ7m&Ji',\n",
              " 'wp3h@aPF',\n",
              " 'p9UD5f#ywk',\n",
              " 'J0PfTf$gx0',\n",
              " '4Cj&POvn5',\n",
              " '56gYa&5j',\n",
              " 'R1vay0mJW#',\n",
              " 'fN03OPlm5@e',\n",
              " '?mPwOFhu3a']"
            ]
          },
          "metadata": {},
          "execution_count": 91
        }
      ]
    },
    {
      "cell_type": "markdown",
      "metadata": {
        "id": "T8_E2rnrAEKO"
      },
      "source": [
        "###**Task 2:** Create a pandas DataFrame\n",
        "\n",
        "First column should contain names\n",
        "\n",
        "Second column should contain Employee ID\n",
        "\n",
        "Third column should contain Email ID\n",
        "\n",
        "Fourth column should contain Password"
      ]
    },
    {
      "cell_type": "code",
      "metadata": {
        "colab": {
          "base_uri": "https://localhost:8080/",
          "height": 419
        },
        "id": "O3LEf7NJ_zHS",
        "outputId": "8c4313ec-7607-4906-aeda-39558e163f3d"
      },
      "source": [
        "df = pd.DataFrame({'Name':names,'Employee ID': emp_id,'Email ID':email, 'Password': password})\n",
        "df"
      ],
      "execution_count": 163,
      "outputs": [
        {
          "output_type": "execute_result",
          "data": {
            "text/html": [
              "<div>\n",
              "<style scoped>\n",
              "    .dataframe tbody tr th:only-of-type {\n",
              "        vertical-align: middle;\n",
              "    }\n",
              "\n",
              "    .dataframe tbody tr th {\n",
              "        vertical-align: top;\n",
              "    }\n",
              "\n",
              "    .dataframe thead th {\n",
              "        text-align: right;\n",
              "    }\n",
              "</style>\n",
              "<table border=\"1\" class=\"dataframe\">\n",
              "  <thead>\n",
              "    <tr style=\"text-align: right;\">\n",
              "      <th></th>\n",
              "      <th>Name</th>\n",
              "      <th>Employee ID</th>\n",
              "      <th>Email ID</th>\n",
              "      <th>Password</th>\n",
              "    </tr>\n",
              "  </thead>\n",
              "  <tbody>\n",
              "    <tr>\n",
              "      <th>0</th>\n",
              "      <td>Edward Davis</td>\n",
              "      <td>2020001</td>\n",
              "      <td>edward.davis@edureka.co</td>\n",
              "      <td>XE?49p5Rbcs</td>\n",
              "    </tr>\n",
              "    <tr>\n",
              "      <th>1</th>\n",
              "      <td>John Brown</td>\n",
              "      <td>2020002</td>\n",
              "      <td>john.brown@edureka.co</td>\n",
              "      <td>#47s4yaWJm</td>\n",
              "    </tr>\n",
              "    <tr>\n",
              "      <th>2</th>\n",
              "      <td>Cristopher Mccrate</td>\n",
              "      <td>2020003</td>\n",
              "      <td>cristopher.mccrate@edureka.co</td>\n",
              "      <td>1&amp;5kEdVjk6Xx</td>\n",
              "    </tr>\n",
              "    <tr>\n",
              "      <th>3</th>\n",
              "      <td>Michael Combes</td>\n",
              "      <td>2020004</td>\n",
              "      <td>michael.combes@edureka.co</td>\n",
              "      <td>86Jfj6?dY</td>\n",
              "    </tr>\n",
              "    <tr>\n",
              "      <th>4</th>\n",
              "      <td>Jeff Blount</td>\n",
              "      <td>2020005</td>\n",
              "      <td>jeff.blount@edureka.co</td>\n",
              "      <td>!YKsybRkj5</td>\n",
              "    </tr>\n",
              "    <tr>\n",
              "      <th>...</th>\n",
              "      <td>...</td>\n",
              "      <td>...</td>\n",
              "      <td>...</td>\n",
              "      <td>...</td>\n",
              "    </tr>\n",
              "    <tr>\n",
              "      <th>995</th>\n",
              "      <td>William Johnson</td>\n",
              "      <td>2020996</td>\n",
              "      <td>william.johnson@edureka.co</td>\n",
              "      <td>!Unctt0</td>\n",
              "    </tr>\n",
              "    <tr>\n",
              "      <th>996</th>\n",
              "      <td>Julie Kronenberg</td>\n",
              "      <td>2020997</td>\n",
              "      <td>julie.kronenberg@edureka.co</td>\n",
              "      <td>fjC7BQ$2w9</td>\n",
              "    </tr>\n",
              "    <tr>\n",
              "      <th>997</th>\n",
              "      <td>Jeanette Sandlin</td>\n",
              "      <td>2020998</td>\n",
              "      <td>jeanette.sandlin@edureka.co</td>\n",
              "      <td>cL2s7p&amp;C</td>\n",
              "    </tr>\n",
              "    <tr>\n",
              "      <th>998</th>\n",
              "      <td>Nancy Zediker</td>\n",
              "      <td>2020999</td>\n",
              "      <td>nancy.zediker@edureka.co</td>\n",
              "      <td>By&amp;trx39kN</td>\n",
              "    </tr>\n",
              "    <tr>\n",
              "      <th>999</th>\n",
              "      <td>Edward Richter</td>\n",
              "      <td>2021000</td>\n",
              "      <td>edward.richter@edureka.co</td>\n",
              "      <td>DnUc90&amp;j0</td>\n",
              "    </tr>\n",
              "  </tbody>\n",
              "</table>\n",
              "<p>1000 rows × 4 columns</p>\n",
              "</div>"
            ],
            "text/plain": [
              "                   Name  ...      Password\n",
              "0          Edward Davis  ...   XE?49p5Rbcs\n",
              "1            John Brown  ...    #47s4yaWJm\n",
              "2    Cristopher Mccrate  ...  1&5kEdVjk6Xx\n",
              "3        Michael Combes  ...     86Jfj6?dY\n",
              "4           Jeff Blount  ...    !YKsybRkj5\n",
              "..                  ...  ...           ...\n",
              "995     William Johnson  ...       !Unctt0\n",
              "996    Julie Kronenberg  ...    fjC7BQ$2w9\n",
              "997    Jeanette Sandlin  ...      cL2s7p&C\n",
              "998       Nancy Zediker  ...    By&trx39kN\n",
              "999      Edward Richter  ...     DnUc90&j0\n",
              "\n",
              "[1000 rows x 4 columns]"
            ]
          },
          "metadata": {},
          "execution_count": 163
        }
      ]
    },
    {
      "cell_type": "markdown",
      "metadata": {
        "id": "bMBUcabjEvP1"
      },
      "source": [
        "###Task 3: \n",
        ">* Print the first 2 and last 3 rows\n",
        ">* Print the shape\n",
        ">* Print the data-types of each column\n"
      ]
    },
    {
      "cell_type": "code",
      "metadata": {
        "colab": {
          "base_uri": "https://localhost:8080/",
          "height": 111
        },
        "id": "a21trODdEv91",
        "outputId": "2d048ae9-c962-4df4-a775-c66f283cfb3a"
      },
      "source": [
        "df.head(2)"
      ],
      "execution_count": 136,
      "outputs": [
        {
          "output_type": "execute_result",
          "data": {
            "text/html": [
              "<div>\n",
              "<style scoped>\n",
              "    .dataframe tbody tr th:only-of-type {\n",
              "        vertical-align: middle;\n",
              "    }\n",
              "\n",
              "    .dataframe tbody tr th {\n",
              "        vertical-align: top;\n",
              "    }\n",
              "\n",
              "    .dataframe thead th {\n",
              "        text-align: right;\n",
              "    }\n",
              "</style>\n",
              "<table border=\"1\" class=\"dataframe\">\n",
              "  <thead>\n",
              "    <tr style=\"text-align: right;\">\n",
              "      <th></th>\n",
              "      <th>Name</th>\n",
              "      <th>Employee ID</th>\n",
              "      <th>Email ID</th>\n",
              "      <th>Password</th>\n",
              "    </tr>\n",
              "  </thead>\n",
              "  <tbody>\n",
              "    <tr>\n",
              "      <th>0</th>\n",
              "      <td>Edward Davis</td>\n",
              "      <td>2020001</td>\n",
              "      <td>edward.davis@edureka.co</td>\n",
              "      <td>XE?49p5Rbcs</td>\n",
              "    </tr>\n",
              "    <tr>\n",
              "      <th>1</th>\n",
              "      <td>John Brown</td>\n",
              "      <td>2020002</td>\n",
              "      <td>john.brown@edureka.co</td>\n",
              "      <td>#47s4yaWJm</td>\n",
              "    </tr>\n",
              "  </tbody>\n",
              "</table>\n",
              "</div>"
            ],
            "text/plain": [
              "           Name  Employee ID                 Email ID     Password\n",
              "0  Edward Davis      2020001  edward.davis@edureka.co  XE?49p5Rbcs\n",
              "1    John Brown      2020002    john.brown@edureka.co   #47s4yaWJm"
            ]
          },
          "metadata": {},
          "execution_count": 136
        }
      ]
    },
    {
      "cell_type": "code",
      "metadata": {
        "colab": {
          "base_uri": "https://localhost:8080/",
          "height": 142
        },
        "id": "EucMOSNsE0eY",
        "outputId": "464a0bd2-a468-4744-d020-ba35578733aa"
      },
      "source": [
        "df.tail(3)"
      ],
      "execution_count": 137,
      "outputs": [
        {
          "output_type": "execute_result",
          "data": {
            "text/html": [
              "<div>\n",
              "<style scoped>\n",
              "    .dataframe tbody tr th:only-of-type {\n",
              "        vertical-align: middle;\n",
              "    }\n",
              "\n",
              "    .dataframe tbody tr th {\n",
              "        vertical-align: top;\n",
              "    }\n",
              "\n",
              "    .dataframe thead th {\n",
              "        text-align: right;\n",
              "    }\n",
              "</style>\n",
              "<table border=\"1\" class=\"dataframe\">\n",
              "  <thead>\n",
              "    <tr style=\"text-align: right;\">\n",
              "      <th></th>\n",
              "      <th>Name</th>\n",
              "      <th>Employee ID</th>\n",
              "      <th>Email ID</th>\n",
              "      <th>Password</th>\n",
              "    </tr>\n",
              "  </thead>\n",
              "  <tbody>\n",
              "    <tr>\n",
              "      <th>997</th>\n",
              "      <td>Jeanette Sandlin</td>\n",
              "      <td>2020998</td>\n",
              "      <td>jeanette.sandlin@edureka.co</td>\n",
              "      <td>cL2s7p&amp;C</td>\n",
              "    </tr>\n",
              "    <tr>\n",
              "      <th>998</th>\n",
              "      <td>Nancy Zediker</td>\n",
              "      <td>2020999</td>\n",
              "      <td>nancy.zediker@edureka.co</td>\n",
              "      <td>By&amp;trx39kN</td>\n",
              "    </tr>\n",
              "    <tr>\n",
              "      <th>999</th>\n",
              "      <td>Edward Richter</td>\n",
              "      <td>2021000</td>\n",
              "      <td>edward.richter@edureka.co</td>\n",
              "      <td>DnUc90&amp;j0</td>\n",
              "    </tr>\n",
              "  </tbody>\n",
              "</table>\n",
              "</div>"
            ],
            "text/plain": [
              "                 Name  Employee ID                     Email ID    Password\n",
              "997  Jeanette Sandlin      2020998  jeanette.sandlin@edureka.co    cL2s7p&C\n",
              "998     Nancy Zediker      2020999     nancy.zediker@edureka.co  By&trx39kN\n",
              "999    Edward Richter      2021000    edward.richter@edureka.co   DnUc90&j0"
            ]
          },
          "metadata": {},
          "execution_count": 137
        }
      ]
    },
    {
      "cell_type": "code",
      "metadata": {
        "colab": {
          "base_uri": "https://localhost:8080/"
        },
        "id": "zg6CsZKKE3fd",
        "outputId": "e496cbce-bb18-44e8-82c5-ef3c4f1b2b4a"
      },
      "source": [
        "df.shape"
      ],
      "execution_count": 138,
      "outputs": [
        {
          "output_type": "execute_result",
          "data": {
            "text/plain": [
              "(1000, 4)"
            ]
          },
          "metadata": {},
          "execution_count": 138
        }
      ]
    },
    {
      "cell_type": "code",
      "metadata": {
        "colab": {
          "base_uri": "https://localhost:8080/"
        },
        "id": "3CLQBLRTE6cB",
        "outputId": "c026e886-e437-403b-93c9-760ec8ab9670"
      },
      "source": [
        "df.info"
      ],
      "execution_count": 139,
      "outputs": [
        {
          "output_type": "execute_result",
          "data": {
            "text/plain": [
              "<bound method DataFrame.info of                    Name  ...      Password\n",
              "0          Edward Davis  ...   XE?49p5Rbcs\n",
              "1            John Brown  ...    #47s4yaWJm\n",
              "2    Cristopher Mccrate  ...  1&5kEdVjk6Xx\n",
              "3        Michael Combes  ...     86Jfj6?dY\n",
              "4           Jeff Blount  ...    !YKsybRkj5\n",
              "..                  ...  ...           ...\n",
              "995     William Johnson  ...       !Unctt0\n",
              "996    Julie Kronenberg  ...    fjC7BQ$2w9\n",
              "997    Jeanette Sandlin  ...      cL2s7p&C\n",
              "998       Nancy Zediker  ...    By&trx39kN\n",
              "999      Edward Richter  ...     DnUc90&j0\n",
              "\n",
              "[1000 rows x 4 columns]>"
            ]
          },
          "metadata": {},
          "execution_count": 139
        }
      ]
    },
    {
      "cell_type": "code",
      "metadata": {
        "colab": {
          "base_uri": "https://localhost:8080/"
        },
        "id": "tuN8C21WE-ES",
        "outputId": "38e62d75-d6a5-45f2-c59c-19b6d1d38bad"
      },
      "source": [
        "print(f\"type: {type(df)}\")"
      ],
      "execution_count": 140,
      "outputs": [
        {
          "output_type": "stream",
          "name": "stdout",
          "text": [
            "type: <class 'pandas.core.frame.DataFrame'>\n"
          ]
        }
      ]
    },
    {
      "cell_type": "code",
      "metadata": {
        "colab": {
          "base_uri": "https://localhost:8080/"
        },
        "id": "f0uLkGMVFDdt",
        "outputId": "38a49cb3-cbfb-4c50-dc3e-8491f7901083"
      },
      "source": [
        "df.dtypes"
      ],
      "execution_count": 141,
      "outputs": [
        {
          "output_type": "execute_result",
          "data": {
            "text/plain": [
              "Name           object\n",
              "Employee ID     int64\n",
              "Email ID       object\n",
              "Password       object\n",
              "dtype: object"
            ]
          },
          "metadata": {},
          "execution_count": 141
        }
      ]
    },
    {
      "cell_type": "markdown",
      "metadata": {
        "id": "CNBDHRn-FlQx"
      },
      "source": [
        "###Task 4: Print the employee id, email id, and password of 'Nancy Zediker'"
      ]
    },
    {
      "cell_type": "code",
      "metadata": {
        "colab": {
          "base_uri": "https://localhost:8080/",
          "height": 80
        },
        "id": "hgJ4omB-FmMn",
        "outputId": "9e8a0354-a133-4efc-ba89-aa7acb0b9ed2"
      },
      "source": [
        "df[df['Name']=='Nancy Zediker']"
      ],
      "execution_count": 142,
      "outputs": [
        {
          "output_type": "execute_result",
          "data": {
            "text/html": [
              "<div>\n",
              "<style scoped>\n",
              "    .dataframe tbody tr th:only-of-type {\n",
              "        vertical-align: middle;\n",
              "    }\n",
              "\n",
              "    .dataframe tbody tr th {\n",
              "        vertical-align: top;\n",
              "    }\n",
              "\n",
              "    .dataframe thead th {\n",
              "        text-align: right;\n",
              "    }\n",
              "</style>\n",
              "<table border=\"1\" class=\"dataframe\">\n",
              "  <thead>\n",
              "    <tr style=\"text-align: right;\">\n",
              "      <th></th>\n",
              "      <th>Name</th>\n",
              "      <th>Employee ID</th>\n",
              "      <th>Email ID</th>\n",
              "      <th>Password</th>\n",
              "    </tr>\n",
              "  </thead>\n",
              "  <tbody>\n",
              "    <tr>\n",
              "      <th>998</th>\n",
              "      <td>Nancy Zediker</td>\n",
              "      <td>2020999</td>\n",
              "      <td>nancy.zediker@edureka.co</td>\n",
              "      <td>By&amp;trx39kN</td>\n",
              "    </tr>\n",
              "  </tbody>\n",
              "</table>\n",
              "</div>"
            ],
            "text/plain": [
              "              Name  Employee ID                  Email ID    Password\n",
              "998  Nancy Zediker      2020999  nancy.zediker@edureka.co  By&trx39kN"
            ]
          },
          "metadata": {},
          "execution_count": 142
        }
      ]
    },
    {
      "cell_type": "markdown",
      "metadata": {
        "id": "9-HU8nVlF-jE"
      },
      "source": [
        "###Working with Series\n",
        "###Task 5: \n",
        ">* Select the column 'Email ID'\n",
        ">* Check the size of the column and print its first 10 values\n",
        ">* Check for duplicate emails\n",
        ">* If duplicate emails add a number to the next number"
      ]
    },
    {
      "cell_type": "code",
      "metadata": {
        "colab": {
          "base_uri": "https://localhost:8080/"
        },
        "id": "5p9SA9iuGArJ",
        "outputId": "f126380c-838e-4bd2-b5e3-2cc79b92a598"
      },
      "source": [
        "df['Email ID'].head()"
      ],
      "execution_count": 143,
      "outputs": [
        {
          "output_type": "execute_result",
          "data": {
            "text/plain": [
              "0          edward.davis@edureka.co\n",
              "1            john.brown@edureka.co\n",
              "2    cristopher.mccrate@edureka.co\n",
              "3        michael.combes@edureka.co\n",
              "4           jeff.blount@edureka.co\n",
              "Name: Email ID, dtype: object"
            ]
          },
          "metadata": {},
          "execution_count": 143
        }
      ]
    },
    {
      "cell_type": "code",
      "metadata": {
        "colab": {
          "base_uri": "https://localhost:8080/"
        },
        "id": "GDoO0OIKFY1w",
        "outputId": "a381ac98-05c7-4586-8e53-bd900828cce5"
      },
      "source": [
        "df['Email ID'].size"
      ],
      "execution_count": 144,
      "outputs": [
        {
          "output_type": "execute_result",
          "data": {
            "text/plain": [
              "1000"
            ]
          },
          "metadata": {},
          "execution_count": 144
        }
      ]
    },
    {
      "cell_type": "code",
      "metadata": {
        "colab": {
          "base_uri": "https://localhost:8080/"
        },
        "id": "IO8SJDPeG6I1",
        "outputId": "3963c9b8-51ae-4ee7-c400-6742c39be00c"
      },
      "source": [
        "df['Email ID'].duplicated().any()"
      ],
      "execution_count": 145,
      "outputs": [
        {
          "output_type": "execute_result",
          "data": {
            "text/plain": [
              "True"
            ]
          },
          "metadata": {},
          "execution_count": 145
        }
      ]
    },
    {
      "cell_type": "code",
      "metadata": {
        "colab": {
          "base_uri": "https://localhost:8080/",
          "height": 80
        },
        "id": "DM4KNFQlHAtU",
        "outputId": "5e6a541f-aac5-4d62-e699-27ad58e3f71a"
      },
      "source": [
        "df[df['Email ID'].duplicated()]"
      ],
      "execution_count": 146,
      "outputs": [
        {
          "output_type": "execute_result",
          "data": {
            "text/html": [
              "<div>\n",
              "<style scoped>\n",
              "    .dataframe tbody tr th:only-of-type {\n",
              "        vertical-align: middle;\n",
              "    }\n",
              "\n",
              "    .dataframe tbody tr th {\n",
              "        vertical-align: top;\n",
              "    }\n",
              "\n",
              "    .dataframe thead th {\n",
              "        text-align: right;\n",
              "    }\n",
              "</style>\n",
              "<table border=\"1\" class=\"dataframe\">\n",
              "  <thead>\n",
              "    <tr style=\"text-align: right;\">\n",
              "      <th></th>\n",
              "      <th>Name</th>\n",
              "      <th>Employee ID</th>\n",
              "      <th>Email ID</th>\n",
              "      <th>Password</th>\n",
              "    </tr>\n",
              "  </thead>\n",
              "  <tbody>\n",
              "    <tr>\n",
              "      <th>850</th>\n",
              "      <td>Lois Thompson</td>\n",
              "      <td>2020851</td>\n",
              "      <td>lois.thompson@edureka.co</td>\n",
              "      <td>4@yzSrw</td>\n",
              "    </tr>\n",
              "  </tbody>\n",
              "</table>\n",
              "</div>"
            ],
            "text/plain": [
              "              Name  Employee ID                  Email ID Password\n",
              "850  Lois Thompson      2020851  lois.thompson@edureka.co  4@yzSrw"
            ]
          },
          "metadata": {},
          "execution_count": 146
        }
      ]
    },
    {
      "cell_type": "code",
      "metadata": {
        "colab": {
          "base_uri": "https://localhost:8080/",
          "height": 111
        },
        "id": "wCy4gKFPHITF",
        "outputId": "a242385f-7b9c-4ef6-e72d-2f8c5df74a64"
      },
      "source": [
        "df[df['Name']=='Lois Thompson']"
      ],
      "execution_count": 147,
      "outputs": [
        {
          "output_type": "execute_result",
          "data": {
            "text/html": [
              "<div>\n",
              "<style scoped>\n",
              "    .dataframe tbody tr th:only-of-type {\n",
              "        vertical-align: middle;\n",
              "    }\n",
              "\n",
              "    .dataframe tbody tr th {\n",
              "        vertical-align: top;\n",
              "    }\n",
              "\n",
              "    .dataframe thead th {\n",
              "        text-align: right;\n",
              "    }\n",
              "</style>\n",
              "<table border=\"1\" class=\"dataframe\">\n",
              "  <thead>\n",
              "    <tr style=\"text-align: right;\">\n",
              "      <th></th>\n",
              "      <th>Name</th>\n",
              "      <th>Employee ID</th>\n",
              "      <th>Email ID</th>\n",
              "      <th>Password</th>\n",
              "    </tr>\n",
              "  </thead>\n",
              "  <tbody>\n",
              "    <tr>\n",
              "      <th>598</th>\n",
              "      <td>Lois Thompson</td>\n",
              "      <td>2020599</td>\n",
              "      <td>lois.thompson@edureka.co</td>\n",
              "      <td>fk?9UxuSX</td>\n",
              "    </tr>\n",
              "    <tr>\n",
              "      <th>850</th>\n",
              "      <td>Lois Thompson</td>\n",
              "      <td>2020851</td>\n",
              "      <td>lois.thompson@edureka.co</td>\n",
              "      <td>4@yzSrw</td>\n",
              "    </tr>\n",
              "  </tbody>\n",
              "</table>\n",
              "</div>"
            ],
            "text/plain": [
              "              Name  Employee ID                  Email ID   Password\n",
              "598  Lois Thompson      2020599  lois.thompson@edureka.co  fk?9UxuSX\n",
              "850  Lois Thompson      2020851  lois.thompson@edureka.co    4@yzSrw"
            ]
          },
          "metadata": {},
          "execution_count": 147
        }
      ]
    },
    {
      "cell_type": "code",
      "metadata": {
        "id": "BDzcHWgqHUKo"
      },
      "source": [
        "df.loc[850,'Email ID'] = 'lois.thompson2@edureka.co'"
      ],
      "execution_count": 148,
      "outputs": []
    },
    {
      "cell_type": "code",
      "metadata": {
        "colab": {
          "base_uri": "https://localhost:8080/"
        },
        "id": "D-jqYse9HtB1",
        "outputId": "7a4f7f9b-eaa8-4a1f-bbf9-a68a9bf65935"
      },
      "source": [
        "df.iloc[850]"
      ],
      "execution_count": 149,
      "outputs": [
        {
          "output_type": "execute_result",
          "data": {
            "text/plain": [
              "Name                       Lois Thompson\n",
              "Employee ID                      2020851\n",
              "Email ID       lois.thompson2@edureka.co\n",
              "Password                         4@yzSrw\n",
              "Name: 850, dtype: object"
            ]
          },
          "metadata": {},
          "execution_count": 149
        }
      ]
    },
    {
      "cell_type": "code",
      "metadata": {
        "colab": {
          "base_uri": "https://localhost:8080/"
        },
        "id": "jd_lZObMICCI",
        "outputId": "035a9bae-0449-43ec-b2a6-7e3f4c37ecdb"
      },
      "source": [
        "df[\"Password\"].duplicated().any()\n",
        "\n"
      ],
      "execution_count": 150,
      "outputs": [
        {
          "output_type": "execute_result",
          "data": {
            "text/plain": [
              "False"
            ]
          },
          "metadata": {},
          "execution_count": 150
        }
      ]
    },
    {
      "cell_type": "markdown",
      "metadata": {
        "id": "hsm_GJWtLmSw"
      },
      "source": [
        "###Task 6: Find all the employees whose name starts with 'A'\n",
        "\n",
        "Also print the total number of names starting with 'A'"
      ]
    },
    {
      "cell_type": "code",
      "metadata": {
        "colab": {
          "base_uri": "https://localhost:8080/"
        },
        "id": "QPjePLfYLeU1",
        "outputId": "6aca9cb6-e81f-490d-c1a9-464355a1755e"
      },
      "source": [
        "df['Name'].str.startswith(\"A\")"
      ],
      "execution_count": 155,
      "outputs": [
        {
          "output_type": "execute_result",
          "data": {
            "text/plain": [
              "0      False\n",
              "1      False\n",
              "2      False\n",
              "3      False\n",
              "4      False\n",
              "       ...  \n",
              "995    False\n",
              "996    False\n",
              "997    False\n",
              "998    False\n",
              "999    False\n",
              "Name: Name, Length: 1000, dtype: bool"
            ]
          },
          "metadata": {},
          "execution_count": 155
        }
      ]
    },
    {
      "cell_type": "code",
      "metadata": {
        "colab": {
          "base_uri": "https://localhost:8080/"
        },
        "id": "FX3HxO3hMlQq",
        "outputId": "376c1371-acae-4968-cb8d-ff9cee481053"
      },
      "source": [
        "df['Name'].str.startswith(\"A\").any()"
      ],
      "execution_count": 156,
      "outputs": [
        {
          "output_type": "execute_result",
          "data": {
            "text/plain": [
              "True"
            ]
          },
          "metadata": {},
          "execution_count": 156
        }
      ]
    },
    {
      "cell_type": "code",
      "metadata": {
        "colab": {
          "base_uri": "https://localhost:8080/"
        },
        "id": "Vx-OzlH7L7vz",
        "outputId": "ff30c991-b0e0-48ad-a8b6-6ccf684363a1"
      },
      "source": [
        "x=df[df['Name'].str.startswith(\"A\")]\n",
        "print(x.head())\n",
        "print(f\"Total name Starting with A is {x.size}\")"
      ],
      "execution_count": 153,
      "outputs": [
        {
          "output_type": "stream",
          "name": "stdout",
          "text": [
            "               Name  Employee ID                   Email ID     Password\n",
            "23       Alfredo Yu      2020024      alfredo.yu@edureka.co      aF1mcz@\n",
            "68   Ashley Nettles      2020069  ashley.nettles@edureka.co  d1gOuhM!65F\n",
            "77     Alice Vallee      2020078    alice.vallee@edureka.co   8yX?dkG2r2\n",
            "96   Adrienne Huber      2020097  adrienne.huber@edureka.co    u1a7C7if!\n",
            "113     Ahmad Olson      2020114     ahmad.olson@edureka.co    p#vr3RVPc\n",
            "Total name Starting with A is 248\n"
          ]
        }
      ]
    },
    {
      "cell_type": "markdown",
      "metadata": {
        "id": "yWVpwmyIMu3W"
      },
      "source": [
        "###Task 7: Remove the details of those people who are not going to join. They are at 10,130,560"
      ]
    },
    {
      "cell_type": "code",
      "metadata": {
        "colab": {
          "base_uri": "https://localhost:8080/",
          "height": 142
        },
        "id": "jOVGyBjlMfRi",
        "outputId": "9984f5e0-e12a-4f7f-fca3-b468d36e8fed"
      },
      "source": [
        "df.iloc[[10,130,560]]"
      ],
      "execution_count": 157,
      "outputs": [
        {
          "output_type": "execute_result",
          "data": {
            "text/html": [
              "<div>\n",
              "<style scoped>\n",
              "    .dataframe tbody tr th:only-of-type {\n",
              "        vertical-align: middle;\n",
              "    }\n",
              "\n",
              "    .dataframe tbody tr th {\n",
              "        vertical-align: top;\n",
              "    }\n",
              "\n",
              "    .dataframe thead th {\n",
              "        text-align: right;\n",
              "    }\n",
              "</style>\n",
              "<table border=\"1\" class=\"dataframe\">\n",
              "  <thead>\n",
              "    <tr style=\"text-align: right;\">\n",
              "      <th></th>\n",
              "      <th>Name</th>\n",
              "      <th>Employee ID</th>\n",
              "      <th>Email ID</th>\n",
              "      <th>Password</th>\n",
              "    </tr>\n",
              "  </thead>\n",
              "  <tbody>\n",
              "    <tr>\n",
              "      <th>10</th>\n",
              "      <td>Della Janek</td>\n",
              "      <td>2020011</td>\n",
              "      <td>della.janek@edureka.co</td>\n",
              "      <td>0&amp;tmX66ZuNp</td>\n",
              "    </tr>\n",
              "    <tr>\n",
              "      <th>130</th>\n",
              "      <td>William Ponyah</td>\n",
              "      <td>2020131</td>\n",
              "      <td>william.ponyah@edureka.co</td>\n",
              "      <td>ozd3M$Hp</td>\n",
              "    </tr>\n",
              "    <tr>\n",
              "      <th>560</th>\n",
              "      <td>Joseph Brussel</td>\n",
              "      <td>2020561</td>\n",
              "      <td>joseph.brussel@edureka.co</td>\n",
              "      <td>49o$hv2H</td>\n",
              "    </tr>\n",
              "  </tbody>\n",
              "</table>\n",
              "</div>"
            ],
            "text/plain": [
              "               Name  Employee ID                   Email ID     Password\n",
              "10      Della Janek      2020011     della.janek@edureka.co  0&tmX66ZuNp\n",
              "130  William Ponyah      2020131  william.ponyah@edureka.co     ozd3M$Hp\n",
              "560  Joseph Brussel      2020561  joseph.brussel@edureka.co     49o$hv2H"
            ]
          },
          "metadata": {},
          "execution_count": 157
        }
      ]
    },
    {
      "cell_type": "code",
      "metadata": {
        "colab": {
          "base_uri": "https://localhost:8080/",
          "height": 419
        },
        "id": "8zmdfIL2M6Dl",
        "outputId": "6a006543-f683-42f4-b122-7570773dbad2"
      },
      "source": [
        "df"
      ],
      "execution_count": 164,
      "outputs": [
        {
          "output_type": "execute_result",
          "data": {
            "text/html": [
              "<div>\n",
              "<style scoped>\n",
              "    .dataframe tbody tr th:only-of-type {\n",
              "        vertical-align: middle;\n",
              "    }\n",
              "\n",
              "    .dataframe tbody tr th {\n",
              "        vertical-align: top;\n",
              "    }\n",
              "\n",
              "    .dataframe thead th {\n",
              "        text-align: right;\n",
              "    }\n",
              "</style>\n",
              "<table border=\"1\" class=\"dataframe\">\n",
              "  <thead>\n",
              "    <tr style=\"text-align: right;\">\n",
              "      <th></th>\n",
              "      <th>Name</th>\n",
              "      <th>Employee ID</th>\n",
              "      <th>Email ID</th>\n",
              "      <th>Password</th>\n",
              "    </tr>\n",
              "  </thead>\n",
              "  <tbody>\n",
              "    <tr>\n",
              "      <th>0</th>\n",
              "      <td>Edward Davis</td>\n",
              "      <td>2020001</td>\n",
              "      <td>edward.davis@edureka.co</td>\n",
              "      <td>XE?49p5Rbcs</td>\n",
              "    </tr>\n",
              "    <tr>\n",
              "      <th>1</th>\n",
              "      <td>John Brown</td>\n",
              "      <td>2020002</td>\n",
              "      <td>john.brown@edureka.co</td>\n",
              "      <td>#47s4yaWJm</td>\n",
              "    </tr>\n",
              "    <tr>\n",
              "      <th>2</th>\n",
              "      <td>Cristopher Mccrate</td>\n",
              "      <td>2020003</td>\n",
              "      <td>cristopher.mccrate@edureka.co</td>\n",
              "      <td>1&amp;5kEdVjk6Xx</td>\n",
              "    </tr>\n",
              "    <tr>\n",
              "      <th>3</th>\n",
              "      <td>Michael Combes</td>\n",
              "      <td>2020004</td>\n",
              "      <td>michael.combes@edureka.co</td>\n",
              "      <td>86Jfj6?dY</td>\n",
              "    </tr>\n",
              "    <tr>\n",
              "      <th>4</th>\n",
              "      <td>Jeff Blount</td>\n",
              "      <td>2020005</td>\n",
              "      <td>jeff.blount@edureka.co</td>\n",
              "      <td>!YKsybRkj5</td>\n",
              "    </tr>\n",
              "    <tr>\n",
              "      <th>...</th>\n",
              "      <td>...</td>\n",
              "      <td>...</td>\n",
              "      <td>...</td>\n",
              "      <td>...</td>\n",
              "    </tr>\n",
              "    <tr>\n",
              "      <th>995</th>\n",
              "      <td>William Johnson</td>\n",
              "      <td>2020996</td>\n",
              "      <td>william.johnson@edureka.co</td>\n",
              "      <td>!Unctt0</td>\n",
              "    </tr>\n",
              "    <tr>\n",
              "      <th>996</th>\n",
              "      <td>Julie Kronenberg</td>\n",
              "      <td>2020997</td>\n",
              "      <td>julie.kronenberg@edureka.co</td>\n",
              "      <td>fjC7BQ$2w9</td>\n",
              "    </tr>\n",
              "    <tr>\n",
              "      <th>997</th>\n",
              "      <td>Jeanette Sandlin</td>\n",
              "      <td>2020998</td>\n",
              "      <td>jeanette.sandlin@edureka.co</td>\n",
              "      <td>cL2s7p&amp;C</td>\n",
              "    </tr>\n",
              "    <tr>\n",
              "      <th>998</th>\n",
              "      <td>Nancy Zediker</td>\n",
              "      <td>2020999</td>\n",
              "      <td>nancy.zediker@edureka.co</td>\n",
              "      <td>By&amp;trx39kN</td>\n",
              "    </tr>\n",
              "    <tr>\n",
              "      <th>999</th>\n",
              "      <td>Edward Richter</td>\n",
              "      <td>2021000</td>\n",
              "      <td>edward.richter@edureka.co</td>\n",
              "      <td>DnUc90&amp;j0</td>\n",
              "    </tr>\n",
              "  </tbody>\n",
              "</table>\n",
              "<p>1000 rows × 4 columns</p>\n",
              "</div>"
            ],
            "text/plain": [
              "                   Name  ...      Password\n",
              "0          Edward Davis  ...   XE?49p5Rbcs\n",
              "1            John Brown  ...    #47s4yaWJm\n",
              "2    Cristopher Mccrate  ...  1&5kEdVjk6Xx\n",
              "3        Michael Combes  ...     86Jfj6?dY\n",
              "4           Jeff Blount  ...    !YKsybRkj5\n",
              "..                  ...  ...           ...\n",
              "995     William Johnson  ...       !Unctt0\n",
              "996    Julie Kronenberg  ...    fjC7BQ$2w9\n",
              "997    Jeanette Sandlin  ...      cL2s7p&C\n",
              "998       Nancy Zediker  ...    By&trx39kN\n",
              "999      Edward Richter  ...     DnUc90&j0\n",
              "\n",
              "[1000 rows x 4 columns]"
            ]
          },
          "metadata": {},
          "execution_count": 164
        }
      ]
    },
    {
      "cell_type": "code",
      "metadata": {
        "colab": {
          "base_uri": "https://localhost:8080/"
        },
        "id": "qglp73QRNkZP",
        "outputId": "b8cf342f-bd55-4e83-fe6c-df3e02e3075d"
      },
      "source": [
        "df.shape"
      ],
      "execution_count": 166,
      "outputs": [
        {
          "output_type": "execute_result",
          "data": {
            "text/plain": [
              "(1000, 4)"
            ]
          },
          "metadata": {},
          "execution_count": 166
        }
      ]
    },
    {
      "cell_type": "code",
      "metadata": {
        "id": "UZjYaKYdOGv6"
      },
      "source": [
        "df.drop([10,130,160],inplace=True)"
      ],
      "execution_count": 167,
      "outputs": []
    },
    {
      "cell_type": "code",
      "metadata": {
        "colab": {
          "base_uri": "https://localhost:8080/",
          "height": 421
        },
        "id": "wlu4hRxJOPVD",
        "outputId": "794a7a0a-c6fe-4462-c229-aaa927eac215"
      },
      "source": [
        "df.head(12)\n",
        "# we can clearly seee that the 10 is missing in our Dataframe"
      ],
      "execution_count": 171,
      "outputs": [
        {
          "output_type": "execute_result",
          "data": {
            "text/html": [
              "<div>\n",
              "<style scoped>\n",
              "    .dataframe tbody tr th:only-of-type {\n",
              "        vertical-align: middle;\n",
              "    }\n",
              "\n",
              "    .dataframe tbody tr th {\n",
              "        vertical-align: top;\n",
              "    }\n",
              "\n",
              "    .dataframe thead th {\n",
              "        text-align: right;\n",
              "    }\n",
              "</style>\n",
              "<table border=\"1\" class=\"dataframe\">\n",
              "  <thead>\n",
              "    <tr style=\"text-align: right;\">\n",
              "      <th></th>\n",
              "      <th>Name</th>\n",
              "      <th>Employee ID</th>\n",
              "      <th>Email ID</th>\n",
              "      <th>Password</th>\n",
              "    </tr>\n",
              "  </thead>\n",
              "  <tbody>\n",
              "    <tr>\n",
              "      <th>0</th>\n",
              "      <td>Edward Davis</td>\n",
              "      <td>2020001</td>\n",
              "      <td>edward.davis@edureka.co</td>\n",
              "      <td>XE?49p5Rbcs</td>\n",
              "    </tr>\n",
              "    <tr>\n",
              "      <th>1</th>\n",
              "      <td>John Brown</td>\n",
              "      <td>2020002</td>\n",
              "      <td>john.brown@edureka.co</td>\n",
              "      <td>#47s4yaWJm</td>\n",
              "    </tr>\n",
              "    <tr>\n",
              "      <th>2</th>\n",
              "      <td>Cristopher Mccrate</td>\n",
              "      <td>2020003</td>\n",
              "      <td>cristopher.mccrate@edureka.co</td>\n",
              "      <td>1&amp;5kEdVjk6Xx</td>\n",
              "    </tr>\n",
              "    <tr>\n",
              "      <th>3</th>\n",
              "      <td>Michael Combes</td>\n",
              "      <td>2020004</td>\n",
              "      <td>michael.combes@edureka.co</td>\n",
              "      <td>86Jfj6?dY</td>\n",
              "    </tr>\n",
              "    <tr>\n",
              "      <th>4</th>\n",
              "      <td>Jeff Blount</td>\n",
              "      <td>2020005</td>\n",
              "      <td>jeff.blount@edureka.co</td>\n",
              "      <td>!YKsybRkj5</td>\n",
              "    </tr>\n",
              "    <tr>\n",
              "      <th>5</th>\n",
              "      <td>Joseph Ferris</td>\n",
              "      <td>2020006</td>\n",
              "      <td>joseph.ferris@edureka.co</td>\n",
              "      <td>e3b$CIz</td>\n",
              "    </tr>\n",
              "    <tr>\n",
              "      <th>6</th>\n",
              "      <td>Pablo Bruner</td>\n",
              "      <td>2020007</td>\n",
              "      <td>pablo.bruner@edureka.co</td>\n",
              "      <td>cfP$90ob3V</td>\n",
              "    </tr>\n",
              "    <tr>\n",
              "      <th>7</th>\n",
              "      <td>Ronnie Waite</td>\n",
              "      <td>2020008</td>\n",
              "      <td>ronnie.waite@edureka.co</td>\n",
              "      <td>lXWnsm6$l</td>\n",
              "    </tr>\n",
              "    <tr>\n",
              "      <th>8</th>\n",
              "      <td>Edward Gonzalez</td>\n",
              "      <td>2020009</td>\n",
              "      <td>edward.gonzalez@edureka.co</td>\n",
              "      <td>tvda7k8UF?</td>\n",
              "    </tr>\n",
              "    <tr>\n",
              "      <th>9</th>\n",
              "      <td>Ruby Musetti</td>\n",
              "      <td>2020010</td>\n",
              "      <td>ruby.musetti@edureka.co</td>\n",
              "      <td>3gRnJlF3#b</td>\n",
              "    </tr>\n",
              "    <tr>\n",
              "      <th>11</th>\n",
              "      <td>Brian Main</td>\n",
              "      <td>2020012</td>\n",
              "      <td>brian.main@edureka.co</td>\n",
              "      <td>k&amp;y6rZw6fE</td>\n",
              "    </tr>\n",
              "    <tr>\n",
              "      <th>12</th>\n",
              "      <td>Jennifer Fowler</td>\n",
              "      <td>2020013</td>\n",
              "      <td>jennifer.fowler@edureka.co</td>\n",
              "      <td>?cyEi7kOBb</td>\n",
              "    </tr>\n",
              "  </tbody>\n",
              "</table>\n",
              "</div>"
            ],
            "text/plain": [
              "                  Name  ...      Password\n",
              "0         Edward Davis  ...   XE?49p5Rbcs\n",
              "1           John Brown  ...    #47s4yaWJm\n",
              "2   Cristopher Mccrate  ...  1&5kEdVjk6Xx\n",
              "3       Michael Combes  ...     86Jfj6?dY\n",
              "4          Jeff Blount  ...    !YKsybRkj5\n",
              "5        Joseph Ferris  ...       e3b$CIz\n",
              "6         Pablo Bruner  ...    cfP$90ob3V\n",
              "7         Ronnie Waite  ...     lXWnsm6$l\n",
              "8      Edward Gonzalez  ...    tvda7k8UF?\n",
              "9         Ruby Musetti  ...    3gRnJlF3#b\n",
              "11          Brian Main  ...    k&y6rZw6fE\n",
              "12     Jennifer Fowler  ...    ?cyEi7kOBb\n",
              "\n",
              "[12 rows x 4 columns]"
            ]
          },
          "metadata": {},
          "execution_count": 171
        }
      ]
    },
    {
      "cell_type": "markdown",
      "metadata": {
        "id": "WrDEUs31Pg5V"
      },
      "source": [
        "### Task 8: Also create a new dataframe without password column and save it in an excel file"
      ]
    },
    {
      "cell_type": "code",
      "metadata": {
        "colab": {
          "base_uri": "https://localhost:8080/",
          "height": 204
        },
        "id": "ReKhZEkePTGb",
        "outputId": "4f0b3924-87d7-4e88-9cf4-af28045b9439"
      },
      "source": [
        "public_df=df.drop('Password',axis=1)\n",
        "public_df.head()"
      ],
      "execution_count": 172,
      "outputs": [
        {
          "output_type": "execute_result",
          "data": {
            "text/html": [
              "<div>\n",
              "<style scoped>\n",
              "    .dataframe tbody tr th:only-of-type {\n",
              "        vertical-align: middle;\n",
              "    }\n",
              "\n",
              "    .dataframe tbody tr th {\n",
              "        vertical-align: top;\n",
              "    }\n",
              "\n",
              "    .dataframe thead th {\n",
              "        text-align: right;\n",
              "    }\n",
              "</style>\n",
              "<table border=\"1\" class=\"dataframe\">\n",
              "  <thead>\n",
              "    <tr style=\"text-align: right;\">\n",
              "      <th></th>\n",
              "      <th>Name</th>\n",
              "      <th>Employee ID</th>\n",
              "      <th>Email ID</th>\n",
              "    </tr>\n",
              "  </thead>\n",
              "  <tbody>\n",
              "    <tr>\n",
              "      <th>0</th>\n",
              "      <td>Edward Davis</td>\n",
              "      <td>2020001</td>\n",
              "      <td>edward.davis@edureka.co</td>\n",
              "    </tr>\n",
              "    <tr>\n",
              "      <th>1</th>\n",
              "      <td>John Brown</td>\n",
              "      <td>2020002</td>\n",
              "      <td>john.brown@edureka.co</td>\n",
              "    </tr>\n",
              "    <tr>\n",
              "      <th>2</th>\n",
              "      <td>Cristopher Mccrate</td>\n",
              "      <td>2020003</td>\n",
              "      <td>cristopher.mccrate@edureka.co</td>\n",
              "    </tr>\n",
              "    <tr>\n",
              "      <th>3</th>\n",
              "      <td>Michael Combes</td>\n",
              "      <td>2020004</td>\n",
              "      <td>michael.combes@edureka.co</td>\n",
              "    </tr>\n",
              "    <tr>\n",
              "      <th>4</th>\n",
              "      <td>Jeff Blount</td>\n",
              "      <td>2020005</td>\n",
              "      <td>jeff.blount@edureka.co</td>\n",
              "    </tr>\n",
              "  </tbody>\n",
              "</table>\n",
              "</div>"
            ],
            "text/plain": [
              "                 Name  Employee ID                       Email ID\n",
              "0        Edward Davis      2020001        edward.davis@edureka.co\n",
              "1          John Brown      2020002          john.brown@edureka.co\n",
              "2  Cristopher Mccrate      2020003  cristopher.mccrate@edureka.co\n",
              "3      Michael Combes      2020004      michael.combes@edureka.co\n",
              "4         Jeff Blount      2020005         jeff.blount@edureka.co"
            ]
          },
          "metadata": {},
          "execution_count": 172
        }
      ]
    },
    {
      "cell_type": "markdown",
      "metadata": {
        "id": "-j_GxHcdP8ud"
      },
      "source": [
        "###Task 10: Save the dataframe in an excel file"
      ]
    },
    {
      "cell_type": "code",
      "metadata": {
        "id": "BhIc7wETP9nu"
      },
      "source": [
        "public_df.to_excel('public_emp_data.xlsx',index=False)\n",
        "df.to_excel('emp_id.xlsx',index=False)"
      ],
      "execution_count": 173,
      "outputs": []
    },
    {
      "cell_type": "markdown",
      "metadata": {
        "id": "Qaor7Of5R8wX"
      },
      "source": [
        "###Task 11: Read the excel file in a dataframe with names as indexes"
      ]
    },
    {
      "cell_type": "code",
      "metadata": {
        "colab": {
          "base_uri": "https://localhost:8080/",
          "height": 235
        },
        "id": "P7dCfCvdVMtG",
        "outputId": "8f5261b3-0f9b-4ce6-b19f-4f824be47dc3"
      },
      "source": [
        "data=pd.read_excel('/content/public_emp_data.xlsx',index_col='Name')\n",
        "data.head()"
      ],
      "execution_count": 179,
      "outputs": [
        {
          "output_type": "execute_result",
          "data": {
            "text/html": [
              "<div>\n",
              "<style scoped>\n",
              "    .dataframe tbody tr th:only-of-type {\n",
              "        vertical-align: middle;\n",
              "    }\n",
              "\n",
              "    .dataframe tbody tr th {\n",
              "        vertical-align: top;\n",
              "    }\n",
              "\n",
              "    .dataframe thead th {\n",
              "        text-align: right;\n",
              "    }\n",
              "</style>\n",
              "<table border=\"1\" class=\"dataframe\">\n",
              "  <thead>\n",
              "    <tr style=\"text-align: right;\">\n",
              "      <th></th>\n",
              "      <th>Employee ID</th>\n",
              "      <th>Email ID</th>\n",
              "    </tr>\n",
              "    <tr>\n",
              "      <th>Name</th>\n",
              "      <th></th>\n",
              "      <th></th>\n",
              "    </tr>\n",
              "  </thead>\n",
              "  <tbody>\n",
              "    <tr>\n",
              "      <th>Edward Davis</th>\n",
              "      <td>2020001</td>\n",
              "      <td>edward.davis@edureka.co</td>\n",
              "    </tr>\n",
              "    <tr>\n",
              "      <th>John Brown</th>\n",
              "      <td>2020002</td>\n",
              "      <td>john.brown@edureka.co</td>\n",
              "    </tr>\n",
              "    <tr>\n",
              "      <th>Cristopher Mccrate</th>\n",
              "      <td>2020003</td>\n",
              "      <td>cristopher.mccrate@edureka.co</td>\n",
              "    </tr>\n",
              "    <tr>\n",
              "      <th>Michael Combes</th>\n",
              "      <td>2020004</td>\n",
              "      <td>michael.combes@edureka.co</td>\n",
              "    </tr>\n",
              "    <tr>\n",
              "      <th>Jeff Blount</th>\n",
              "      <td>2020005</td>\n",
              "      <td>jeff.blount@edureka.co</td>\n",
              "    </tr>\n",
              "  </tbody>\n",
              "</table>\n",
              "</div>"
            ],
            "text/plain": [
              "                    Employee ID                       Email ID\n",
              "Name                                                          \n",
              "Edward Davis            2020001        edward.davis@edureka.co\n",
              "John Brown              2020002          john.brown@edureka.co\n",
              "Cristopher Mccrate      2020003  cristopher.mccrate@edureka.co\n",
              "Michael Combes          2020004      michael.combes@edureka.co\n",
              "Jeff Blount             2020005         jeff.blount@edureka.co"
            ]
          },
          "metadata": {},
          "execution_count": 179
        }
      ]
    },
    {
      "cell_type": "code",
      "metadata": {
        "id": "FzoK3ExiP391"
      },
      "source": [
        "#/content/emp_id.xlsx\n",
        "data = pd.read_excel('/content/emp_id.xlsx',index_col='Name')"
      ],
      "execution_count": 174,
      "outputs": []
    },
    {
      "cell_type": "code",
      "metadata": {
        "colab": {
          "base_uri": "https://localhost:8080/",
          "height": 235
        },
        "id": "6mm__rvoSBYR",
        "outputId": "cd3462b3-4ace-4c15-cc00-f09cbcda751d"
      },
      "source": [
        "data.head()"
      ],
      "execution_count": 175,
      "outputs": [
        {
          "output_type": "execute_result",
          "data": {
            "text/html": [
              "<div>\n",
              "<style scoped>\n",
              "    .dataframe tbody tr th:only-of-type {\n",
              "        vertical-align: middle;\n",
              "    }\n",
              "\n",
              "    .dataframe tbody tr th {\n",
              "        vertical-align: top;\n",
              "    }\n",
              "\n",
              "    .dataframe thead th {\n",
              "        text-align: right;\n",
              "    }\n",
              "</style>\n",
              "<table border=\"1\" class=\"dataframe\">\n",
              "  <thead>\n",
              "    <tr style=\"text-align: right;\">\n",
              "      <th></th>\n",
              "      <th>Employee ID</th>\n",
              "      <th>Email ID</th>\n",
              "      <th>Password</th>\n",
              "    </tr>\n",
              "    <tr>\n",
              "      <th>Name</th>\n",
              "      <th></th>\n",
              "      <th></th>\n",
              "      <th></th>\n",
              "    </tr>\n",
              "  </thead>\n",
              "  <tbody>\n",
              "    <tr>\n",
              "      <th>Edward Davis</th>\n",
              "      <td>2020001</td>\n",
              "      <td>edward.davis@edureka.co</td>\n",
              "      <td>XE?49p5Rbcs</td>\n",
              "    </tr>\n",
              "    <tr>\n",
              "      <th>John Brown</th>\n",
              "      <td>2020002</td>\n",
              "      <td>john.brown@edureka.co</td>\n",
              "      <td>#47s4yaWJm</td>\n",
              "    </tr>\n",
              "    <tr>\n",
              "      <th>Cristopher Mccrate</th>\n",
              "      <td>2020003</td>\n",
              "      <td>cristopher.mccrate@edureka.co</td>\n",
              "      <td>1&amp;5kEdVjk6Xx</td>\n",
              "    </tr>\n",
              "    <tr>\n",
              "      <th>Michael Combes</th>\n",
              "      <td>2020004</td>\n",
              "      <td>michael.combes@edureka.co</td>\n",
              "      <td>86Jfj6?dY</td>\n",
              "    </tr>\n",
              "    <tr>\n",
              "      <th>Jeff Blount</th>\n",
              "      <td>2020005</td>\n",
              "      <td>jeff.blount@edureka.co</td>\n",
              "      <td>!YKsybRkj5</td>\n",
              "    </tr>\n",
              "  </tbody>\n",
              "</table>\n",
              "</div>"
            ],
            "text/plain": [
              "                    Employee ID                       Email ID      Password\n",
              "Name                                                                        \n",
              "Edward Davis            2020001        edward.davis@edureka.co   XE?49p5Rbcs\n",
              "John Brown              2020002          john.brown@edureka.co    #47s4yaWJm\n",
              "Cristopher Mccrate      2020003  cristopher.mccrate@edureka.co  1&5kEdVjk6Xx\n",
              "Michael Combes          2020004      michael.combes@edureka.co     86Jfj6?dY\n",
              "Jeff Blount             2020005         jeff.blount@edureka.co    !YKsybRkj5"
            ]
          },
          "metadata": {},
          "execution_count": 175
        }
      ]
    },
    {
      "cell_type": "code",
      "metadata": {
        "colab": {
          "base_uri": "https://localhost:8080/",
          "height": 210
        },
        "id": "6E9omwfuSE53",
        "outputId": "94419ab9-da2d-49f0-f8a3-3b2ed5a0117c"
      },
      "source": [
        "print(data.loc['John Brown']) #Selecting rows using label\n",
        "data.loc[['John Brown','Michael Combes']]"
      ],
      "execution_count": 176,
      "outputs": [
        {
          "output_type": "stream",
          "name": "stdout",
          "text": [
            "Employee ID                  2020002\n",
            "Email ID       john.brown@edureka.co\n",
            "Password                  #47s4yaWJm\n",
            "Name: John Brown, dtype: object\n"
          ]
        },
        {
          "output_type": "execute_result",
          "data": {
            "text/html": [
              "<div>\n",
              "<style scoped>\n",
              "    .dataframe tbody tr th:only-of-type {\n",
              "        vertical-align: middle;\n",
              "    }\n",
              "\n",
              "    .dataframe tbody tr th {\n",
              "        vertical-align: top;\n",
              "    }\n",
              "\n",
              "    .dataframe thead th {\n",
              "        text-align: right;\n",
              "    }\n",
              "</style>\n",
              "<table border=\"1\" class=\"dataframe\">\n",
              "  <thead>\n",
              "    <tr style=\"text-align: right;\">\n",
              "      <th></th>\n",
              "      <th>Employee ID</th>\n",
              "      <th>Email ID</th>\n",
              "      <th>Password</th>\n",
              "    </tr>\n",
              "    <tr>\n",
              "      <th>Name</th>\n",
              "      <th></th>\n",
              "      <th></th>\n",
              "      <th></th>\n",
              "    </tr>\n",
              "  </thead>\n",
              "  <tbody>\n",
              "    <tr>\n",
              "      <th>John Brown</th>\n",
              "      <td>2020002</td>\n",
              "      <td>john.brown@edureka.co</td>\n",
              "      <td>#47s4yaWJm</td>\n",
              "    </tr>\n",
              "    <tr>\n",
              "      <th>Michael Combes</th>\n",
              "      <td>2020004</td>\n",
              "      <td>michael.combes@edureka.co</td>\n",
              "      <td>86Jfj6?dY</td>\n",
              "    </tr>\n",
              "  </tbody>\n",
              "</table>\n",
              "</div>"
            ],
            "text/plain": [
              "                Employee ID                   Email ID    Password\n",
              "Name                                                              \n",
              "John Brown          2020002      john.brown@edureka.co  #47s4yaWJm\n",
              "Michael Combes      2020004  michael.combes@edureka.co   86Jfj6?dY"
            ]
          },
          "metadata": {},
          "execution_count": 176
        }
      ]
    },
    {
      "cell_type": "code",
      "metadata": {
        "id": "gNotNiRySOBp"
      },
      "source": [
        ""
      ],
      "execution_count": 179,
      "outputs": []
    },
    {
      "cell_type": "code",
      "metadata": {
        "id": "tDzBV1suU1Rh"
      },
      "source": [
        ""
      ],
      "execution_count": null,
      "outputs": []
    }
  ]
}